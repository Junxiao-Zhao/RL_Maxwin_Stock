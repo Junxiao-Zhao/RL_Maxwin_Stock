{
 "cells": [
  {
   "cell_type": "code",
   "execution_count": 2,
   "metadata": {},
   "outputs": [],
   "source": [
    "from datetime import datetime, timedelta\n",
    "\n",
    "import torch\n",
    "import torch.nn.functional as F\n",
    "import baostock as bs\n",
    "import akshare as ak\n",
    "import pandas as pd"
   ]
  },
  {
   "cell_type": "markdown",
   "metadata": {},
   "source": [
    "- 手续费：1.3e-4\n",
    "- 印花税：0\n",
    "- 滑点：0.01\n",
    "\n",
    "- 实际花费：(开盘价+滑点) * (1+手续费)\n",
    "- 实际收入：(收盘价-滑点)*(1-手续费-印花税)"
   ]
  },
  {
   "cell_type": "code",
   "execution_count": 3,
   "metadata": {},
   "outputs": [
    {
     "data": {
      "text/html": [
       "<div>\n",
       "<style scoped>\n",
       "    .dataframe tbody tr th:only-of-type {\n",
       "        vertical-align: middle;\n",
       "    }\n",
       "\n",
       "    .dataframe tbody tr th {\n",
       "        vertical-align: top;\n",
       "    }\n",
       "\n",
       "    .dataframe thead th {\n",
       "        text-align: right;\n",
       "    }\n",
       "</style>\n",
       "<table border=\"1\" class=\"dataframe\">\n",
       "  <thead>\n",
       "    <tr style=\"text-align: right;\">\n",
       "      <th></th>\n",
       "      <th>tradeDate</th>\n",
       "      <th>curveName</th>\n",
       "      <th>maturity</th>\n",
       "      <th>curveType</th>\n",
       "      <th>yield</th>\n",
       "    </tr>\n",
       "  </thead>\n",
       "  <tbody>\n",
       "    <tr>\n",
       "      <th>0</th>\n",
       "      <td>2025/4/3</td>\n",
       "      <td>??????§?????</td>\n",
       "      <td>10</td>\n",
       "      <td>????</td>\n",
       "      <td>1.785</td>\n",
       "    </tr>\n",
       "    <tr>\n",
       "      <th>1</th>\n",
       "      <td>2025/4/2</td>\n",
       "      <td>??????§?????</td>\n",
       "      <td>10</td>\n",
       "      <td>????</td>\n",
       "      <td>1.860</td>\n",
       "    </tr>\n",
       "    <tr>\n",
       "      <th>2</th>\n",
       "      <td>2025/4/1</td>\n",
       "      <td>??????§?????</td>\n",
       "      <td>10</td>\n",
       "      <td>????</td>\n",
       "      <td>1.874</td>\n",
       "    </tr>\n",
       "    <tr>\n",
       "      <th>3</th>\n",
       "      <td>2025/3/31</td>\n",
       "      <td>??????§?????</td>\n",
       "      <td>10</td>\n",
       "      <td>????</td>\n",
       "      <td>1.876</td>\n",
       "    </tr>\n",
       "    <tr>\n",
       "      <th>4</th>\n",
       "      <td>2025/3/28</td>\n",
       "      <td>??????§?????</td>\n",
       "      <td>10</td>\n",
       "      <td>????</td>\n",
       "      <td>1.884</td>\n",
       "    </tr>\n",
       "  </tbody>\n",
       "</table>\n",
       "</div>"
      ],
      "text/plain": [
       "   tradeDate     curveName  maturity curveType  yield\n",
       "0   2025/4/3  ??????§?????        10      ????  1.785\n",
       "1   2025/4/2  ??????§?????        10      ????  1.860\n",
       "2   2025/4/1  ??????§?????        10      ????  1.874\n",
       "3  2025/3/31  ??????§?????        10      ????  1.876\n",
       "4  2025/3/28  ??????§?????        10      ????  1.884"
      ]
     },
     "execution_count": 3,
     "metadata": {},
     "output_type": "execute_result"
    }
   ],
   "source": [
    "pe_df = pd.read_csv(\"../data/000300_pe.csv\", encoding=\"gbk\")\n",
    "index_df = pd.read_csv(\"../data/000300_price.csv\", encoding=\"gbk\")\n",
    "bond_df = pd.read_csv(\"../data/10yr_bond_yield.csv\", encoding=\"gbk\")\n",
    "bond_df.head()"
   ]
  },
  {
   "cell_type": "code",
   "execution_count": 4,
   "metadata": {},
   "outputs": [],
   "source": [
    "pe_df[\"tradeDate\"] = pd.to_datetime(pe_df[\"tradeDate\"])\n",
    "index_df[\"tradeDate\"] = pd.to_datetime(index_df[\"tradeDate\"])\n",
    "bond_df[\"tradeDate\"] = pd.to_datetime(bond_df[\"tradeDate\"])"
   ]
  },
  {
   "cell_type": "code",
   "execution_count": 5,
   "metadata": {},
   "outputs": [],
   "source": [
    "index_df = index_df.merge(pe_df, how=\"left\", on=\"tradeDate\")"
   ]
  },
  {
   "cell_type": "code",
   "execution_count": 6,
   "metadata": {},
   "outputs": [
    {
     "data": {
      "text/plain": [
       "2974"
      ]
     },
     "execution_count": 6,
     "metadata": {},
     "output_type": "execute_result"
    }
   ],
   "source": [
    "index_df = index_df[index_df[\"tradeDate\"] >= \"2013-01-01\"]\n",
    "len(index_df)"
   ]
  },
  {
   "cell_type": "code",
   "execution_count": 7,
   "metadata": {},
   "outputs": [
    {
     "data": {
      "text/plain": [
       "3031"
      ]
     },
     "execution_count": 7,
     "metadata": {},
     "output_type": "execute_result"
    }
   ],
   "source": [
    "bond_df = bond_df[bond_df[\"tradeDate\"] >= \"2013-01-01\"]\n",
    "len(bond_df)"
   ]
  },
  {
   "cell_type": "code",
   "execution_count": 8,
   "metadata": {},
   "outputs": [],
   "source": [
    "overall_df = index_df.merge(bond_df, how=\"left\", on=\"tradeDate\")"
   ]
  },
  {
   "cell_type": "markdown",
   "metadata": {},
   "source": [
    "- 总长度2048\n",
    "- prompt长度5"
   ]
  },
  {
   "cell_type": "code",
   "execution_count": 15,
   "metadata": {},
   "outputs": [],
   "source": [
    "from typing import List\n",
    "\n",
    "import torch\n",
    "import torch.nn.functional as F\n",
    "import pandas as pd\n",
    "from datasets import Dataset\n",
    "\n",
    "\n",
    "class PriceProcessor:\n",
    "\n",
    "    def __init__(\n",
    "        self,\n",
    "        df: pd.DataFrame,\n",
    "        input_cols: List[str],\n",
    "        reward_cols: List[str],\n",
    "        date_col: str = \"tradeDate\",\n",
    "        prompt_len: int = 5,\n",
    "        max_len: int = 2048,\n",
    "    ):\n",
    "        cols = list(set(input_cols + reward_cols))\n",
    "        self.df = df[[date_col] + cols].sort_values(\n",
    "            by=date_col, ignore_index=True).bfill().ffill()\n",
    "        self.input_cols = input_cols\n",
    "        self.reward_cols = reward_cols\n",
    "        self.date_col = date_col\n",
    "        self.prompt_len = prompt_len\n",
    "        self.max_len = max_len\n",
    "\n",
    "    def __call__(self, start_time: str):\n",
    "\n",
    "        if isinstance(start_time, str):\n",
    "            start_time = pd.to_datetime(start_time)\n",
    "        window_df = self.df.loc[self.df[self.date_col] >=\n",
    "                                start_time].iloc[:self.max_len]\n",
    "        # window_df[self.date_col] = window_df[self.date_col].apply(\n",
    "        #     lambda x: x.timestamp())\n",
    "\n",
    "        input_ids = torch.tensor(window_df[self.input_cols].values,\n",
    "                                 dtype=torch.float32)\n",
    "\n",
    "        # pad\n",
    "        prefix_fill = max(0, self.prompt_len - input_ids.size(0))\n",
    "        suffix_fill = max(0, self.max_len - input_ids.size(0) - prefix_fill)\n",
    "        pad_dim = (0, 0, prefix_fill, suffix_fill)\n",
    "        input_ids = F.pad(input_ids, pad_dim, value=0)\n",
    "\n",
    "        # mask\n",
    "        attention_mask = torch.ones(input_ids.shape[:-1], dtype=torch.float32)\n",
    "        if prefix_fill:\n",
    "            attention_mask[:prefix_fill] = 0\n",
    "        if suffix_fill:\n",
    "            attention_mask[-suffix_fill:] = 0\n",
    "\n",
    "        # split\n",
    "        prompt_ids, prompt_mask = input_ids[:self.\n",
    "                                            prompt_len], attention_mask[:self.\n",
    "                                                                        prompt_len]\n",
    "        completion_ids, completion_mask = input_ids[\n",
    "            self.prompt_len:], attention_mask[self.prompt_len:]\n",
    "\n",
    "        result = {\n",
    "            # \"trade_date\": window_df[self.date_col].values,\n",
    "            \"prompt_ids\": prompt_ids,\n",
    "            \"prompt_mask\": prompt_mask,\n",
    "            \"completion_ids\": completion_ids,\n",
    "            \"completion_mask\": completion_mask,\n",
    "        }\n",
    "\n",
    "        # prepare inputs from reward_func\n",
    "        window_dict = window_df[self.reward_cols].to_dict(orient=\"list\")\n",
    "        window_dict = {\n",
    "            k: F.pad(torch.tensor(v, dtype=torch.float32),\n",
    "                     pad_dim[2:],\n",
    "                     value=0)\n",
    "            for k, v in window_dict.items()\n",
    "        }\n",
    "        result.update(window_dict)\n",
    "\n",
    "        return result\n",
    "\n",
    "    def rolling(self, **kwargs):\n",
    "\n",
    "        windows = list(self.df.rolling(**kwargs))\n",
    "        print(sorted(map(len, windows)))\n",
    "        windows = list(filter(lambda x: len(x) >= self.prompt_len, windows))\n",
    "\n",
    "        results = [self(win.iloc[0][self.date_col]) for win in windows]\n",
    "        dataset = Dataset.from_list(results)\n",
    "\n",
    "        return dataset"
   ]
  },
  {
   "cell_type": "code",
   "execution_count": 16,
   "metadata": {},
   "outputs": [],
   "source": [
    "pp = PriceProcessor(overall_df, [\"EPValue\", \"yield\"],\n",
    "                    [\"openIndex\", \"closeIndex\"])"
   ]
  },
  {
   "cell_type": "code",
   "execution_count": 17,
   "metadata": {},
   "outputs": [
    {
     "name": "stdout",
     "output_type": "stream",
     "text": [
      "[1, 14, 27, 40, 53, 66, 79, 92, 105, 118, 131, 144, 157, 170, 183, 196, 209, 222, 235, 248, 261, 274, 287, 300, 313, 326, 339, 352, 365, 378, 391, 404, 417, 430, 443, 456, 469, 482, 495, 508, 521, 534, 547, 560, 573, 586, 599, 612, 625, 638, 651, 664, 677, 690, 703, 716, 729, 742, 755, 768, 781, 794, 807, 820, 833, 846, 859, 872, 885, 898, 911, 924, 937, 950, 963, 976, 989, 1002, 1015, 1028, 1041, 1054, 1067, 1080, 1093, 1106, 1119, 1132, 1145, 1158, 1171, 1184, 1197, 1210, 1223, 1236, 1249, 1262, 1275, 1288, 1301, 1314, 1327, 1340, 1353, 1366, 1379, 1392, 1405, 1418, 1431, 1444, 1457, 1470, 1483, 1496, 1509, 1522, 1535, 1548, 1561, 1574, 1587, 1600, 1613, 1626, 1639, 1652, 1665, 1678, 1691, 1704, 1717, 1730, 1743, 1756, 1769, 1782, 1795, 1808, 1821, 1834, 1847, 1860, 1873, 1886, 1899, 1912, 1925, 1938, 1951, 1964, 1977, 1990, 2003, 2016, 2029, 2042, 2048, 2048, 2048, 2048, 2048, 2048, 2048, 2048, 2048, 2048, 2048, 2048, 2048, 2048, 2048, 2048, 2048, 2048, 2048, 2048, 2048, 2048, 2048, 2048, 2048, 2048, 2048, 2048, 2048, 2048, 2048, 2048, 2048, 2048, 2048, 2048, 2048, 2048, 2048, 2048, 2048, 2048, 2048, 2048, 2048, 2048, 2048, 2048, 2048, 2048, 2048, 2048, 2048, 2048, 2048, 2048, 2048, 2048, 2048, 2048, 2048, 2048, 2048, 2048, 2048, 2048, 2048, 2048, 2048, 2048, 2048]\n"
     ]
    }
   ],
   "source": [
    "dataset = pp.rolling(window=2048, step=13)"
   ]
  },
  {
   "cell_type": "code",
   "execution_count": 22,
   "metadata": {},
   "outputs": [],
   "source": [
    "dataset.set_format(\"pt\")"
   ]
  },
  {
   "cell_type": "code",
   "execution_count": 25,
   "metadata": {},
   "outputs": [
    {
     "data": {
      "text/plain": [
       "torch.Size([228, 2043, 2])"
      ]
     },
     "execution_count": 25,
     "metadata": {},
     "output_type": "execute_result"
    }
   ],
   "source": [
    "dataset[\"completion_ids\"].shape"
   ]
  },
  {
   "cell_type": "code",
   "execution_count": 53,
   "metadata": {},
   "outputs": [
    {
     "data": {
      "text/plain": [
       "{'prompt_ids': tensor([[0.0791, 1.9090],\n",
       "         [0.0791, 1.8850],\n",
       "         [0.0795, 1.8790],\n",
       "         [0.0793, 1.8720],\n",
       "         [0.0800, 1.8840]]),\n",
       " 'prompt_mask': tensor([1., 1., 1., 1., 1.]),\n",
       " 'completion_ids': tensor([[0.0805, 1.8760],\n",
       "         [0.0801, 1.8740],\n",
       "         [0.0801, 1.8600],\n",
       "         [0.0803, 1.7850],\n",
       "         [0.0000, 0.0000]]),\n",
       " 'completion_mask': tensor([1., 1., 1., 1., 0.]),\n",
       " 'openIndex': tensor([3916.1135, 3937.8975, 3930.2073, 3911.3840, 3930.7764, 3905.9814,\n",
       "         3892.7793, 3884.4182, 3843.4177,    0.0000]),\n",
       " 'closeIndex': tensor([3934.8486, 3932.2952, 3919.3567, 3932.4116, 3915.1663, 3887.3057,\n",
       "         3887.6841, 3884.3857, 3861.5034,    0.0000])}"
      ]
     },
     "execution_count": 53,
     "metadata": {},
     "output_type": "execute_result"
    }
   ],
   "source": [
    "data = pp(start_time=\"2025-03-23\", prompt_len=5, max_len=10)\n",
    "data"
   ]
  },
  {
   "cell_type": "code",
   "execution_count": 33,
   "metadata": {},
   "outputs": [],
   "source": [
    "data[\"action_mask\"][:4] = 0"
   ]
  },
  {
   "cell_type": "code",
   "execution_count": 34,
   "metadata": {},
   "outputs": [
    {
     "data": {
      "text/plain": [
       "tensor([[0., 0.],\n",
       "        [0., 0.],\n",
       "        [0., 0.],\n",
       "        [0., 0.],\n",
       "        [1., 1.],\n",
       "        [0., 0.],\n",
       "        [0., 0.],\n",
       "        [0., 0.],\n",
       "        [0., 0.],\n",
       "        [0., 0.],\n",
       "        [0., 0.]])"
      ]
     },
     "execution_count": 34,
     "metadata": {},
     "output_type": "execute_result"
    }
   ],
   "source": [
    "data[\"action_mask\"]"
   ]
  },
  {
   "cell_type": "code",
   "execution_count": 87,
   "metadata": {},
   "outputs": [
    {
     "data": {
      "text/plain": [
       "1735732916.0"
      ]
     },
     "execution_count": 87,
     "metadata": {},
     "output_type": "execute_result"
    }
   ],
   "source": [
    "pd.to_datetime(\"2025/1/1 12:01:56\").timestamp()"
   ]
  },
  {
   "cell_type": "code",
   "execution_count": 88,
   "metadata": {},
   "outputs": [
    {
     "data": {
      "text/plain": [
       "datetime.datetime(2025, 1, 1, 20, 1, 56)"
      ]
     },
     "execution_count": 88,
     "metadata": {},
     "output_type": "execute_result"
    }
   ],
   "source": [
    "timedelta()"
   ]
  },
  {
   "cell_type": "code",
   "execution_count": null,
   "metadata": {},
   "outputs": [],
   "source": []
  },
  {
   "cell_type": "code",
   "execution_count": 6,
   "metadata": {},
   "outputs": [
    {
     "data": {
      "text/plain": [
       "tradeDate          2008/5/5\n",
       "secID           000300.ZICN\n",
       "ticker                  300\n",
       "secShortName        ????300\n",
       "PEValue               27.97\n",
       "PB                     4.49\n",
       "ROE                 0.15996\n",
       "EPValue            0.035753\n",
       "Name: 4112, dtype: object"
      ]
     },
     "execution_count": 6,
     "metadata": {},
     "output_type": "execute_result"
    }
   ],
   "source": [
    "pe_df.iloc[-1]"
   ]
  },
  {
   "cell_type": "code",
   "execution_count": 34,
   "metadata": {},
   "outputs": [
    {
     "name": "stdout",
     "output_type": "stream",
     "text": [
      "login success!\n"
     ]
    }
   ],
   "source": [
    "lg = bs.login()"
   ]
  },
  {
   "cell_type": "code",
   "execution_count": 11,
   "metadata": {},
   "outputs": [],
   "source": [
    "rs = bs.query_history_k_data_plus(\n",
    "    \"sh.600000\",\n",
    "    \"date,code,open,high,low,close,preclose,volume,amount,adjustflag,turn,tradestatus,pctChg,isST\",\n",
    "    start_date='2024-07-01',\n",
    "    end_date='2024-12-31',\n",
    "    frequency=\"d\",\n",
    "    adjustflag=\"3\")"
   ]
  },
  {
   "cell_type": "code",
   "execution_count": 37,
   "metadata": {},
   "outputs": [],
   "source": [
    "rs = bs.query_history_k_data_plus(\n",
    "    \"sh.000300\",\n",
    "    \"date,code,open,high,low,close,preclose,volume,amount,pctChg\",\n",
    "    start_date='2009-01-01',\n",
    "    end_date='2025-04-04',\n",
    "    frequency=\"d\")"
   ]
  },
  {
   "cell_type": "code",
   "execution_count": 38,
   "metadata": {},
   "outputs": [
    {
     "data": {
      "text/html": [
       "<div>\n",
       "<style scoped>\n",
       "    .dataframe tbody tr th:only-of-type {\n",
       "        vertical-align: middle;\n",
       "    }\n",
       "\n",
       "    .dataframe tbody tr th {\n",
       "        vertical-align: top;\n",
       "    }\n",
       "\n",
       "    .dataframe thead th {\n",
       "        text-align: right;\n",
       "    }\n",
       "</style>\n",
       "<table border=\"1\" class=\"dataframe\">\n",
       "  <thead>\n",
       "    <tr style=\"text-align: right;\">\n",
       "      <th></th>\n",
       "      <th>date</th>\n",
       "      <th>code</th>\n",
       "      <th>open</th>\n",
       "      <th>high</th>\n",
       "      <th>low</th>\n",
       "      <th>close</th>\n",
       "      <th>preclose</th>\n",
       "      <th>volume</th>\n",
       "      <th>amount</th>\n",
       "      <th>pctChg</th>\n",
       "    </tr>\n",
       "  </thead>\n",
       "  <tbody>\n",
       "    <tr>\n",
       "      <th>0</th>\n",
       "      <td>2009-01-05</td>\n",
       "      <td>sh.000300</td>\n",
       "      <td>1848.3260</td>\n",
       "      <td>1882.9590</td>\n",
       "      <td>1837.8390</td>\n",
       "      <td>1882.9590</td>\n",
       "      <td>1817.7220</td>\n",
       "      <td>4818702000</td>\n",
       "      <td>39217076790.0000</td>\n",
       "      <td>3.588939</td>\n",
       "    </tr>\n",
       "    <tr>\n",
       "      <th>1</th>\n",
       "      <td>2009-01-06</td>\n",
       "      <td>sh.000300</td>\n",
       "      <td>1880.6720</td>\n",
       "      <td>1948.4890</td>\n",
       "      <td>1873.0110</td>\n",
       "      <td>1942.7950</td>\n",
       "      <td>1882.9590</td>\n",
       "      <td>7097409700</td>\n",
       "      <td>59262170581.0000</td>\n",
       "      <td>3.177768</td>\n",
       "    </tr>\n",
       "    <tr>\n",
       "      <th>2</th>\n",
       "      <td>2009-01-07</td>\n",
       "      <td>sh.000300</td>\n",
       "      <td>1942.6710</td>\n",
       "      <td>1959.2460</td>\n",
       "      <td>1930.8680</td>\n",
       "      <td>1931.1780</td>\n",
       "      <td>1942.7950</td>\n",
       "      <td>5970216700</td>\n",
       "      <td>50143418262.0000</td>\n",
       "      <td>-0.597956</td>\n",
       "    </tr>\n",
       "    <tr>\n",
       "      <th>3</th>\n",
       "      <td>2009-01-08</td>\n",
       "      <td>sh.000300</td>\n",
       "      <td>1894.6640</td>\n",
       "      <td>1902.7960</td>\n",
       "      <td>1873.6480</td>\n",
       "      <td>1887.9910</td>\n",
       "      <td>1931.1780</td>\n",
       "      <td>5344649000</td>\n",
       "      <td>47210802398.0000</td>\n",
       "      <td>-2.236304</td>\n",
       "    </tr>\n",
       "    <tr>\n",
       "      <th>4</th>\n",
       "      <td>2009-01-09</td>\n",
       "      <td>sh.000300</td>\n",
       "      <td>1886.4880</td>\n",
       "      <td>1923.4230</td>\n",
       "      <td>1886.4880</td>\n",
       "      <td>1918.3650</td>\n",
       "      <td>1887.9910</td>\n",
       "      <td>4740721600</td>\n",
       "      <td>41511211439.0000</td>\n",
       "      <td>1.608801</td>\n",
       "    </tr>\n",
       "    <tr>\n",
       "      <th>...</th>\n",
       "      <td>...</td>\n",
       "      <td>...</td>\n",
       "      <td>...</td>\n",
       "      <td>...</td>\n",
       "      <td>...</td>\n",
       "      <td>...</td>\n",
       "      <td>...</td>\n",
       "      <td>...</td>\n",
       "      <td>...</td>\n",
       "      <td>...</td>\n",
       "    </tr>\n",
       "    <tr>\n",
       "      <th>3942</th>\n",
       "      <td>2025-03-28</td>\n",
       "      <td>sh.000300</td>\n",
       "      <td>3930.7763</td>\n",
       "      <td>3934.2336</td>\n",
       "      <td>3907.3840</td>\n",
       "      <td>3915.1662</td>\n",
       "      <td>3932.4117</td>\n",
       "      <td>12635621400</td>\n",
       "      <td>213379194289.3000</td>\n",
       "      <td>-0.438548</td>\n",
       "    </tr>\n",
       "    <tr>\n",
       "      <th>3943</th>\n",
       "      <td>2025-03-31</td>\n",
       "      <td>sh.000300</td>\n",
       "      <td>3905.9815</td>\n",
       "      <td>3928.4482</td>\n",
       "      <td>3872.4030</td>\n",
       "      <td>3887.3056</td>\n",
       "      <td>3915.1662</td>\n",
       "      <td>16679852300</td>\n",
       "      <td>268480316572.3000</td>\n",
       "      <td>-0.711607</td>\n",
       "    </tr>\n",
       "    <tr>\n",
       "      <th>3944</th>\n",
       "      <td>2025-04-01</td>\n",
       "      <td>sh.000300</td>\n",
       "      <td>3892.7794</td>\n",
       "      <td>3905.2622</td>\n",
       "      <td>3882.4045</td>\n",
       "      <td>3887.6841</td>\n",
       "      <td>3887.3056</td>\n",
       "      <td>14038027400</td>\n",
       "      <td>246041674670.2000</td>\n",
       "      <td>0.009737</td>\n",
       "    </tr>\n",
       "    <tr>\n",
       "      <th>3945</th>\n",
       "      <td>2025-04-02</td>\n",
       "      <td>sh.000300</td>\n",
       "      <td>3884.4181</td>\n",
       "      <td>3900.4949</td>\n",
       "      <td>3877.1599</td>\n",
       "      <td>3884.3858</td>\n",
       "      <td>3887.6841</td>\n",
       "      <td>11304317500</td>\n",
       "      <td>198267515342.4000</td>\n",
       "      <td>-0.084840</td>\n",
       "    </tr>\n",
       "    <tr>\n",
       "      <th>3946</th>\n",
       "      <td>2025-04-03</td>\n",
       "      <td>sh.000300</td>\n",
       "      <td>3843.4177</td>\n",
       "      <td>3883.7025</td>\n",
       "      <td>3843.4177</td>\n",
       "      <td>3861.5034</td>\n",
       "      <td>3884.3858</td>\n",
       "      <td>14259978900</td>\n",
       "      <td>263684681545.1000</td>\n",
       "      <td>-0.589087</td>\n",
       "    </tr>\n",
       "  </tbody>\n",
       "</table>\n",
       "<p>3947 rows × 10 columns</p>\n",
       "</div>"
      ],
      "text/plain": [
       "            date       code       open       high        low      close  \\\n",
       "0     2009-01-05  sh.000300  1848.3260  1882.9590  1837.8390  1882.9590   \n",
       "1     2009-01-06  sh.000300  1880.6720  1948.4890  1873.0110  1942.7950   \n",
       "2     2009-01-07  sh.000300  1942.6710  1959.2460  1930.8680  1931.1780   \n",
       "3     2009-01-08  sh.000300  1894.6640  1902.7960  1873.6480  1887.9910   \n",
       "4     2009-01-09  sh.000300  1886.4880  1923.4230  1886.4880  1918.3650   \n",
       "...          ...        ...        ...        ...        ...        ...   \n",
       "3942  2025-03-28  sh.000300  3930.7763  3934.2336  3907.3840  3915.1662   \n",
       "3943  2025-03-31  sh.000300  3905.9815  3928.4482  3872.4030  3887.3056   \n",
       "3944  2025-04-01  sh.000300  3892.7794  3905.2622  3882.4045  3887.6841   \n",
       "3945  2025-04-02  sh.000300  3884.4181  3900.4949  3877.1599  3884.3858   \n",
       "3946  2025-04-03  sh.000300  3843.4177  3883.7025  3843.4177  3861.5034   \n",
       "\n",
       "       preclose       volume             amount     pctChg  \n",
       "0     1817.7220   4818702000   39217076790.0000   3.588939  \n",
       "1     1882.9590   7097409700   59262170581.0000   3.177768  \n",
       "2     1942.7950   5970216700   50143418262.0000  -0.597956  \n",
       "3     1931.1780   5344649000   47210802398.0000  -2.236304  \n",
       "4     1887.9910   4740721600   41511211439.0000   1.608801  \n",
       "...         ...          ...                ...        ...  \n",
       "3942  3932.4117  12635621400  213379194289.3000  -0.438548  \n",
       "3943  3915.1662  16679852300  268480316572.3000  -0.711607  \n",
       "3944  3887.3056  14038027400  246041674670.2000   0.009737  \n",
       "3945  3887.6841  11304317500  198267515342.4000  -0.084840  \n",
       "3946  3884.3858  14259978900  263684681545.1000  -0.589087  \n",
       "\n",
       "[3947 rows x 10 columns]"
      ]
     },
     "execution_count": 38,
     "metadata": {},
     "output_type": "execute_result"
    }
   ],
   "source": [
    "rs.get_data()"
   ]
  },
  {
   "cell_type": "code",
   "execution_count": 47,
   "metadata": {},
   "outputs": [],
   "source": [
    "bonds = ak.bond_china_yield(start_date=\"20240407\", end_date=\"20250407\")"
   ]
  },
  {
   "cell_type": "code",
   "execution_count": 53,
   "metadata": {},
   "outputs": [
    {
     "data": {
      "text/plain": [
       "Index(['曲线名称', '日期', '3月', '6月', '1年', '3年', '5年', '7年', '10年', '30年'], dtype='object')"
      ]
     },
     "execution_count": 53,
     "metadata": {},
     "output_type": "execute_result"
    }
   ],
   "source": [
    "bonds.columns"
   ]
  },
  {
   "cell_type": "code",
   "execution_count": 58,
   "metadata": {},
   "outputs": [
    {
     "data": {
      "text/html": [
       "<div>\n",
       "<style scoped>\n",
       "    .dataframe tbody tr th:only-of-type {\n",
       "        vertical-align: middle;\n",
       "    }\n",
       "\n",
       "    .dataframe tbody tr th {\n",
       "        vertical-align: top;\n",
       "    }\n",
       "\n",
       "    .dataframe thead th {\n",
       "        text-align: right;\n",
       "    }\n",
       "</style>\n",
       "<table border=\"1\" class=\"dataframe\">\n",
       "  <thead>\n",
       "    <tr style=\"text-align: right;\">\n",
       "      <th></th>\n",
       "      <th>曲线名称</th>\n",
       "      <th>日期</th>\n",
       "      <th>10年</th>\n",
       "    </tr>\n",
       "  </thead>\n",
       "  <tbody>\n",
       "    <tr>\n",
       "      <th>722</th>\n",
       "      <td>中债国债收益率曲线</td>\n",
       "      <td>2025-03-24</td>\n",
       "      <td>1.8413</td>\n",
       "    </tr>\n",
       "    <tr>\n",
       "      <th>725</th>\n",
       "      <td>中债国债收益率曲线</td>\n",
       "      <td>2025-03-25</td>\n",
       "      <td>1.8183</td>\n",
       "    </tr>\n",
       "    <tr>\n",
       "      <th>726</th>\n",
       "      <td>中债国债收益率曲线</td>\n",
       "      <td>2025-03-26</td>\n",
       "      <td>1.7943</td>\n",
       "    </tr>\n",
       "    <tr>\n",
       "      <th>731</th>\n",
       "      <td>中债国债收益率曲线</td>\n",
       "      <td>2025-03-27</td>\n",
       "      <td>1.8062</td>\n",
       "    </tr>\n",
       "    <tr>\n",
       "      <th>734</th>\n",
       "      <td>中债国债收益率曲线</td>\n",
       "      <td>2025-03-28</td>\n",
       "      <td>1.8126</td>\n",
       "    </tr>\n",
       "    <tr>\n",
       "      <th>737</th>\n",
       "      <td>中债国债收益率曲线</td>\n",
       "      <td>2025-03-31</td>\n",
       "      <td>1.8129</td>\n",
       "    </tr>\n",
       "    <tr>\n",
       "      <th>738</th>\n",
       "      <td>中债国债收益率曲线</td>\n",
       "      <td>2025-04-01</td>\n",
       "      <td>1.8104</td>\n",
       "    </tr>\n",
       "    <tr>\n",
       "      <th>743</th>\n",
       "      <td>中债国债收益率曲线</td>\n",
       "      <td>2025-04-02</td>\n",
       "      <td>1.7887</td>\n",
       "    </tr>\n",
       "    <tr>\n",
       "      <th>746</th>\n",
       "      <td>中债国债收益率曲线</td>\n",
       "      <td>2025-04-03</td>\n",
       "      <td>1.7180</td>\n",
       "    </tr>\n",
       "    <tr>\n",
       "      <th>749</th>\n",
       "      <td>中债国债收益率曲线</td>\n",
       "      <td>2025-04-07</td>\n",
       "      <td>1.6318</td>\n",
       "    </tr>\n",
       "  </tbody>\n",
       "</table>\n",
       "</div>"
      ],
      "text/plain": [
       "          曲线名称          日期     10年\n",
       "722  中债国债收益率曲线  2025-03-24  1.8413\n",
       "725  中债国债收益率曲线  2025-03-25  1.8183\n",
       "726  中债国债收益率曲线  2025-03-26  1.7943\n",
       "731  中债国债收益率曲线  2025-03-27  1.8062\n",
       "734  中债国债收益率曲线  2025-03-28  1.8126\n",
       "737  中债国债收益率曲线  2025-03-31  1.8129\n",
       "738  中债国债收益率曲线  2025-04-01  1.8104\n",
       "743  中债国债收益率曲线  2025-04-02  1.7887\n",
       "746  中债国债收益率曲线  2025-04-03  1.7180\n",
       "749  中债国债收益率曲线  2025-04-07  1.6318"
      ]
     },
     "execution_count": 58,
     "metadata": {},
     "output_type": "execute_result"
    }
   ],
   "source": [
    "bonds[[\"曲线名称\", '日期', \"10年\"]][bonds[\"曲线名称\"].str.contains(\"国债收益率\")].tail(10)"
   ]
  },
  {
   "cell_type": "code",
   "execution_count": 56,
   "metadata": {},
   "outputs": [
    {
     "data": {
      "text/html": [
       "<div>\n",
       "<style scoped>\n",
       "    .dataframe tbody tr th:only-of-type {\n",
       "        vertical-align: middle;\n",
       "    }\n",
       "\n",
       "    .dataframe tbody tr th {\n",
       "        vertical-align: top;\n",
       "    }\n",
       "\n",
       "    .dataframe thead th {\n",
       "        text-align: right;\n",
       "    }\n",
       "</style>\n",
       "<table border=\"1\" class=\"dataframe\">\n",
       "  <thead>\n",
       "    <tr style=\"text-align: right;\">\n",
       "      <th></th>\n",
       "      <th>tradeDate</th>\n",
       "      <th>curveName</th>\n",
       "      <th>maturity</th>\n",
       "      <th>curveType</th>\n",
       "      <th>yield</th>\n",
       "    </tr>\n",
       "  </thead>\n",
       "  <tbody>\n",
       "    <tr>\n",
       "      <th>0</th>\n",
       "      <td>2025-04-03</td>\n",
       "      <td>??????§?????</td>\n",
       "      <td>10</td>\n",
       "      <td>????</td>\n",
       "      <td>1.785</td>\n",
       "    </tr>\n",
       "    <tr>\n",
       "      <th>1</th>\n",
       "      <td>2025-04-02</td>\n",
       "      <td>??????§?????</td>\n",
       "      <td>10</td>\n",
       "      <td>????</td>\n",
       "      <td>1.860</td>\n",
       "    </tr>\n",
       "    <tr>\n",
       "      <th>2</th>\n",
       "      <td>2025-04-01</td>\n",
       "      <td>??????§?????</td>\n",
       "      <td>10</td>\n",
       "      <td>????</td>\n",
       "      <td>1.874</td>\n",
       "    </tr>\n",
       "    <tr>\n",
       "      <th>3</th>\n",
       "      <td>2025-03-31</td>\n",
       "      <td>??????§?????</td>\n",
       "      <td>10</td>\n",
       "      <td>????</td>\n",
       "      <td>1.876</td>\n",
       "    </tr>\n",
       "    <tr>\n",
       "      <th>4</th>\n",
       "      <td>2025-03-28</td>\n",
       "      <td>??????§?????</td>\n",
       "      <td>10</td>\n",
       "      <td>????</td>\n",
       "      <td>1.884</td>\n",
       "    </tr>\n",
       "  </tbody>\n",
       "</table>\n",
       "</div>"
      ],
      "text/plain": [
       "   tradeDate     curveName  maturity curveType  yield\n",
       "0 2025-04-03  ??????§?????        10      ????  1.785\n",
       "1 2025-04-02  ??????§?????        10      ????  1.860\n",
       "2 2025-04-01  ??????§?????        10      ????  1.874\n",
       "3 2025-03-31  ??????§?????        10      ????  1.876\n",
       "4 2025-03-28  ??????§?????        10      ????  1.884"
      ]
     },
     "execution_count": 56,
     "metadata": {},
     "output_type": "execute_result"
    }
   ],
   "source": [
    "bond_df.head()"
   ]
  },
  {
   "cell_type": "code",
   "execution_count": 22,
   "metadata": {},
   "outputs": [],
   "source": [
    "stock_zh_index_daily_df = ak.stock_zh_index_daily(symbol=\"sh000300\")"
   ]
  },
  {
   "cell_type": "code",
   "execution_count": 23,
   "metadata": {},
   "outputs": [
    {
     "data": {
      "text/html": [
       "<div>\n",
       "<style scoped>\n",
       "    .dataframe tbody tr th:only-of-type {\n",
       "        vertical-align: middle;\n",
       "    }\n",
       "\n",
       "    .dataframe tbody tr th {\n",
       "        vertical-align: top;\n",
       "    }\n",
       "\n",
       "    .dataframe thead th {\n",
       "        text-align: right;\n",
       "    }\n",
       "</style>\n",
       "<table border=\"1\" class=\"dataframe\">\n",
       "  <thead>\n",
       "    <tr style=\"text-align: right;\">\n",
       "      <th></th>\n",
       "      <th>date</th>\n",
       "      <th>open</th>\n",
       "      <th>high</th>\n",
       "      <th>low</th>\n",
       "      <th>close</th>\n",
       "      <th>volume</th>\n",
       "    </tr>\n",
       "  </thead>\n",
       "  <tbody>\n",
       "    <tr>\n",
       "      <th>0</th>\n",
       "      <td>2002-01-04</td>\n",
       "      <td>1316.455</td>\n",
       "      <td>1316.455</td>\n",
       "      <td>1316.455</td>\n",
       "      <td>1316.455</td>\n",
       "      <td>0</td>\n",
       "    </tr>\n",
       "    <tr>\n",
       "      <th>1</th>\n",
       "      <td>2002-01-07</td>\n",
       "      <td>1302.084</td>\n",
       "      <td>1302.084</td>\n",
       "      <td>1302.084</td>\n",
       "      <td>1302.084</td>\n",
       "      <td>0</td>\n",
       "    </tr>\n",
       "    <tr>\n",
       "      <th>2</th>\n",
       "      <td>2002-01-08</td>\n",
       "      <td>1292.714</td>\n",
       "      <td>1292.714</td>\n",
       "      <td>1292.714</td>\n",
       "      <td>1292.714</td>\n",
       "      <td>0</td>\n",
       "    </tr>\n",
       "    <tr>\n",
       "      <th>3</th>\n",
       "      <td>2002-01-09</td>\n",
       "      <td>1272.645</td>\n",
       "      <td>1272.645</td>\n",
       "      <td>1272.645</td>\n",
       "      <td>1272.645</td>\n",
       "      <td>0</td>\n",
       "    </tr>\n",
       "    <tr>\n",
       "      <th>4</th>\n",
       "      <td>2002-01-10</td>\n",
       "      <td>1281.261</td>\n",
       "      <td>1281.261</td>\n",
       "      <td>1281.261</td>\n",
       "      <td>1281.261</td>\n",
       "      <td>0</td>\n",
       "    </tr>\n",
       "    <tr>\n",
       "      <th>...</th>\n",
       "      <td>...</td>\n",
       "      <td>...</td>\n",
       "      <td>...</td>\n",
       "      <td>...</td>\n",
       "      <td>...</td>\n",
       "      <td>...</td>\n",
       "    </tr>\n",
       "    <tr>\n",
       "      <th>5634</th>\n",
       "      <td>2025-03-28</td>\n",
       "      <td>3930.776</td>\n",
       "      <td>3934.234</td>\n",
       "      <td>3907.384</td>\n",
       "      <td>3915.166</td>\n",
       "      <td>12635621400</td>\n",
       "    </tr>\n",
       "    <tr>\n",
       "      <th>5635</th>\n",
       "      <td>2025-03-31</td>\n",
       "      <td>3905.982</td>\n",
       "      <td>3928.448</td>\n",
       "      <td>3872.403</td>\n",
       "      <td>3887.306</td>\n",
       "      <td>16679852300</td>\n",
       "    </tr>\n",
       "    <tr>\n",
       "      <th>5636</th>\n",
       "      <td>2025-04-01</td>\n",
       "      <td>3892.779</td>\n",
       "      <td>3905.262</td>\n",
       "      <td>3882.405</td>\n",
       "      <td>3887.684</td>\n",
       "      <td>14038027400</td>\n",
       "    </tr>\n",
       "    <tr>\n",
       "      <th>5637</th>\n",
       "      <td>2025-04-02</td>\n",
       "      <td>3884.418</td>\n",
       "      <td>3900.495</td>\n",
       "      <td>3877.160</td>\n",
       "      <td>3884.386</td>\n",
       "      <td>11304317500</td>\n",
       "    </tr>\n",
       "    <tr>\n",
       "      <th>5638</th>\n",
       "      <td>2025-04-03</td>\n",
       "      <td>3843.418</td>\n",
       "      <td>3883.703</td>\n",
       "      <td>3843.418</td>\n",
       "      <td>3861.503</td>\n",
       "      <td>14259978900</td>\n",
       "    </tr>\n",
       "  </tbody>\n",
       "</table>\n",
       "<p>5639 rows × 6 columns</p>\n",
       "</div>"
      ],
      "text/plain": [
       "            date      open      high       low     close       volume\n",
       "0     2002-01-04  1316.455  1316.455  1316.455  1316.455            0\n",
       "1     2002-01-07  1302.084  1302.084  1302.084  1302.084            0\n",
       "2     2002-01-08  1292.714  1292.714  1292.714  1292.714            0\n",
       "3     2002-01-09  1272.645  1272.645  1272.645  1272.645            0\n",
       "4     2002-01-10  1281.261  1281.261  1281.261  1281.261            0\n",
       "...          ...       ...       ...       ...       ...          ...\n",
       "5634  2025-03-28  3930.776  3934.234  3907.384  3915.166  12635621400\n",
       "5635  2025-03-31  3905.982  3928.448  3872.403  3887.306  16679852300\n",
       "5636  2025-04-01  3892.779  3905.262  3882.405  3887.684  14038027400\n",
       "5637  2025-04-02  3884.418  3900.495  3877.160  3884.386  11304317500\n",
       "5638  2025-04-03  3843.418  3883.703  3843.418  3861.503  14259978900\n",
       "\n",
       "[5639 rows x 6 columns]"
      ]
     },
     "execution_count": 23,
     "metadata": {},
     "output_type": "execute_result"
    }
   ],
   "source": [
    "stock_zh_index_daily_df"
   ]
  },
  {
   "cell_type": "code",
   "execution_count": null,
   "metadata": {},
   "outputs": [],
   "source": [
    "bond_china_yield_df = ak.bond_china_yield(date=\"2020-02-04\")"
   ]
  },
  {
   "cell_type": "code",
   "execution_count": null,
   "metadata": {},
   "outputs": [],
   "source": [
    "def compute_yield_policy1_old(\n",
    "    actions: torch.Tensor,  # (N, S)\n",
    "    open_price: Sequence[float],  # (S,)\n",
    "    close_price: Sequence[float],  # (S,)\n",
    "    slippage: float = 0.01,\n",
    "    stamps: float = 0.0,\n",
    "    service_fee: float = 1.3e-4,\n",
    "    assets: float = 2e5,\n",
    "    **kwargs,\n",
    "):\n",
    "\n",
    "    if actions.dim() == 1:\n",
    "        actions = actions.unsqueeze(0)\n",
    "\n",
    "    num_generations, span_len = actions.shape\n",
    "    zero = torch.zeros((num_generations, 1), device=actions.device)\n",
    "    diff = torch.diff(actions.eq(1).int(), prepend=zero, append=zero)\n",
    "    yields = torch.zeros(num_generations).to(actions.device)\n",
    "\n",
    "    for i in range(num_generations):\n",
    "\n",
    "        total_assets = assets\n",
    "\n",
    "        # calculate the holding periods\n",
    "        start = torch.where(diff[i] == 1)[0]\n",
    "        end = torch.where(diff[i] == -1)[0]\n",
    "\n",
    "        for span in list(zip(start.tolist(), end.tolist())):\n",
    "            start_idx, end_idx = span\n",
    "\n",
    "            bid_rate = (open_price[start_idx] + slippage) * (1 + service_fee)\n",
    "            shares = total_assets // bid_rate\n",
    "            total_assets = total_assets % bid_rate\n",
    "\n",
    "            if end_idx < span_len:\n",
    "                ask_rate = (open_price[end_idx] -\n",
    "                            slippage) * (1 - service_fee - stamps)\n",
    "            else:\n",
    "                ask_rate = close_price[-1]\n",
    "\n",
    "            total_assets += shares * ask_rate\n",
    "\n",
    "        yields[i] = (total_assets - assets) / assets\n",
    "\n",
    "    return yields"
   ]
  }
 ],
 "metadata": {
  "kernelspec": {
   "display_name": "DL",
   "language": "python",
   "name": "python3"
  },
  "language_info": {
   "codemirror_mode": {
    "name": "ipython",
    "version": 3
   },
   "file_extension": ".py",
   "mimetype": "text/x-python",
   "name": "python",
   "nbconvert_exporter": "python",
   "pygments_lexer": "ipython3",
   "version": "3.10.13"
  }
 },
 "nbformat": 4,
 "nbformat_minor": 2
}
