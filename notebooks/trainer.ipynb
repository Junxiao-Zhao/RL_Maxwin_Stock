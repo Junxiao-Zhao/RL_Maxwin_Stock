{
 "cells": [
  {
   "cell_type": "code",
   "execution_count": 1,
   "metadata": {},
   "outputs": [
    {
     "name": "stderr",
     "output_type": "stream",
     "text": [
      "d:\\Program\\miniconda3\\envs\\DL\\lib\\site-packages\\transformers\\utils\\generic.py:496: UserWarning: torch.utils._pytree._register_pytree_node is deprecated. Please use torch.utils._pytree.register_pytree_node instead.\n",
      "  _torch_pytree._register_pytree_node(\n",
      "d:\\Program\\miniconda3\\envs\\DL\\lib\\site-packages\\transformers\\utils\\generic.py:353: UserWarning: torch.utils._pytree._register_pytree_node is deprecated. Please use torch.utils._pytree.register_pytree_node instead.\n",
      "  _torch_pytree._register_pytree_node(\n",
      "d:\\Program\\miniconda3\\envs\\DL\\lib\\site-packages\\transformers\\utils\\generic.py:353: UserWarning: torch.utils._pytree._register_pytree_node is deprecated. Please use torch.utils._pytree.register_pytree_node instead.\n",
      "  _torch_pytree._register_pytree_node(\n"
     ]
    }
   ],
   "source": [
    "import sys\n",
    "\n",
    "sys.path.append(\"..\")\n",
    "\n",
    "import torch\n",
    "import pandas as pd\n",
    "from datasets import Dataset\n",
    "from transformers import AutoConfig\n",
    "from trl import GRPOConfig\n",
    "\n",
    "from src.price_process import PriceProcessor\n",
    "from src.model import Qwen2ForAction\n",
    "from src.trainer import ActionGRPOTrainer\n",
    "from src.rewards import compute_yield_policy1"
   ]
  },
  {
   "cell_type": "markdown",
   "metadata": {},
   "source": [
    "## data"
   ]
  },
  {
   "cell_type": "code",
   "execution_count": 2,
   "metadata": {},
   "outputs": [],
   "source": [
    "pe_df = pd.read_csv(\"../data/000300_pe.csv\", encoding=\"gbk\")\n",
    "index_df = pd.read_csv(\"../data/000300_price.csv\", encoding=\"gbk\")\n",
    "bond_df = pd.read_csv(\"../data/10yr_bond_yield.csv\", encoding=\"gbk\")"
   ]
  },
  {
   "cell_type": "code",
   "execution_count": 3,
   "metadata": {},
   "outputs": [],
   "source": [
    "pe_df[\"tradeDate\"] = pd.to_datetime(pe_df[\"tradeDate\"])\n",
    "index_df[\"tradeDate\"] = pd.to_datetime(index_df[\"tradeDate\"])\n",
    "bond_df[\"tradeDate\"] = pd.to_datetime(bond_df[\"tradeDate\"])"
   ]
  },
  {
   "cell_type": "code",
   "execution_count": 4,
   "metadata": {},
   "outputs": [],
   "source": [
    "index_df = index_df.merge(pe_df, how=\"left\", on=\"tradeDate\")"
   ]
  },
  {
   "cell_type": "code",
   "execution_count": 5,
   "metadata": {},
   "outputs": [
    {
     "data": {
      "text/plain": [
       "2974"
      ]
     },
     "execution_count": 5,
     "metadata": {},
     "output_type": "execute_result"
    }
   ],
   "source": [
    "index_df = index_df[index_df[\"tradeDate\"] >= \"2013-01-01\"]\n",
    "len(index_df)"
   ]
  },
  {
   "cell_type": "code",
   "execution_count": 6,
   "metadata": {},
   "outputs": [
    {
     "data": {
      "text/plain": [
       "3031"
      ]
     },
     "execution_count": 6,
     "metadata": {},
     "output_type": "execute_result"
    }
   ],
   "source": [
    "bond_df = bond_df[bond_df[\"tradeDate\"] >= \"2013-01-01\"]\n",
    "len(bond_df)"
   ]
  },
  {
   "cell_type": "code",
   "execution_count": 7,
   "metadata": {},
   "outputs": [],
   "source": [
    "overall_df = index_df.merge(bond_df, how=\"left\", on=\"tradeDate\")"
   ]
  },
  {
   "cell_type": "code",
   "execution_count": 8,
   "metadata": {},
   "outputs": [],
   "source": [
    "prompt_len = 8\n",
    "max_len = 16\n",
    "pp = PriceProcessor(overall_df, [\"EPValue\", \"yield\"],\n",
    "                    [\"openIndex\", \"closeIndex\"],\n",
    "                    prompt_len=prompt_len,\n",
    "                    max_len=max_len)"
   ]
  },
  {
   "cell_type": "code",
   "execution_count": 16,
   "metadata": {},
   "outputs": [],
   "source": [
    "dataset = pp.rolling(window=max_len, step=13)"
   ]
  },
  {
   "cell_type": "code",
   "execution_count": 17,
   "metadata": {},
   "outputs": [],
   "source": [
    "dataset = dataset.rename_columns({\n",
    "    \"openIndex\": \"open_price\",\n",
    "    \"closeIndex\": \"close_price\"\n",
    "})\n",
    "# dataset.set_format(\"pt\")"
   ]
  },
  {
   "cell_type": "code",
   "execution_count": 15,
   "metadata": {},
   "outputs": [
    {
     "data": {
      "text/plain": [
       "torch.Size([228, 8])"
      ]
     },
     "execution_count": 15,
     "metadata": {},
     "output_type": "execute_result"
    }
   ],
   "source": [
    "dataset[\"close_price\"].shape"
   ]
  },
  {
   "cell_type": "markdown",
   "metadata": {},
   "source": [
    "## model"
   ]
  },
  {
   "cell_type": "code",
   "execution_count": 18,
   "metadata": {},
   "outputs": [],
   "source": [
    "config = AutoConfig.from_pretrained(\"Qwen/Qwen2.5-0.5B\")"
   ]
  },
  {
   "cell_type": "code",
   "execution_count": 19,
   "metadata": {},
   "outputs": [],
   "source": [
    "config.update({\n",
    "    # \"hidden_size\": 2,\n",
    "    \"vocab_size\": 2,\n",
    "    \"num_generations\": 16,\n",
    "    \"max_length\": max_len,\n",
    "    # \"num_attention_heads\": 1,\n",
    "})"
   ]
  },
  {
   "cell_type": "code",
   "execution_count": 20,
   "metadata": {},
   "outputs": [
    {
     "name": "stderr",
     "output_type": "stream",
     "text": [
      "Sliding Window Attention is enabled but not implemented for `eager`; unexpected results may be encountered.\n"
     ]
    }
   ],
   "source": [
    "model = Qwen2ForAction(config).to(\"cuda\")\n",
    "# model"
   ]
  },
  {
   "cell_type": "code",
   "execution_count": 21,
   "metadata": {},
   "outputs": [],
   "source": [
    "trainer_config = GRPOConfig(\n",
    "    do_train=True,\n",
    "    num_generations=2,\n",
    "    beta=0.0,\n",
    "    temperature=1,\n",
    "    max_prompt_length=prompt_len,\n",
    "    max_completion_length=max_len - prompt_len,\n",
    "    use_vllm=False,\n",
    "    num_iterations=1,\n",
    "    per_device_train_batch_size=2,\n",
    "    per_device_eval_batch_size=2,\n",
    ")"
   ]
  },
  {
   "cell_type": "code",
   "execution_count": 22,
   "metadata": {},
   "outputs": [],
   "source": [
    "trainer = ActionGRPOTrainer(\n",
    "    model,\n",
    "    reward_funcs=compute_yield_policy1,\n",
    "    args=trainer_config,\n",
    "    train_dataset=dataset,\n",
    ")"
   ]
  },
  {
   "cell_type": "code",
   "execution_count": 23,
   "metadata": {},
   "outputs": [
    {
     "data": {
      "text/html": [
       "\n",
       "    <div>\n",
       "      \n",
       "      <progress value='75' max='684' style='width:300px; height:20px; vertical-align: middle;'></progress>\n",
       "      [ 75/684 00:14 < 01:57, 5.20 it/s, Epoch 0.32/3]\n",
       "    </div>\n",
       "    <table border=\"1\" class=\"dataframe\">\n",
       "  <thead>\n",
       " <tr style=\"text-align: left;\">\n",
       "      <th>Step</th>\n",
       "      <th>Training Loss</th>\n",
       "    </tr>\n",
       "  </thead>\n",
       "  <tbody>\n",
       "  </tbody>\n",
       "</table><p>"
      ],
      "text/plain": [
       "<IPython.core.display.HTML object>"
      ]
     },
     "metadata": {},
     "output_type": "display_data"
    }
   ],
   "source": [
    "trainer.train()"
   ]
  }
 ],
 "metadata": {
  "kernelspec": {
   "display_name": "DL",
   "language": "python",
   "name": "python3"
  },
  "language_info": {
   "codemirror_mode": {
    "name": "ipython",
    "version": 3
   },
   "file_extension": ".py",
   "mimetype": "text/x-python",
   "name": "python",
   "nbconvert_exporter": "python",
   "pygments_lexer": "ipython3",
   "version": "3.10.13"
  }
 },
 "nbformat": 4,
 "nbformat_minor": 2
}
